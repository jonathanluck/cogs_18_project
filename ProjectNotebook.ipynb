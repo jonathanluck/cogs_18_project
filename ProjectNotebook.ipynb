{
 "cells": [
  {
   "cell_type": "markdown",
   "metadata": {},
   "source": [
    "## Encrypted Archive"
   ]
  },
  {
   "cell_type": "markdown",
   "metadata": {},
   "source": [
    "This COGS 18 project is designed to Python, authenticated encryption with associated data (AEAD), and compression to create encrypted archives of files. Run the program using main.py, or directly use the EncryptedArchive class with \n",
    "`import EncryptedArchive`\n",
    "\n",
    "Example usage:\n",
    "```\n",
    "C:\\Users\\Jonathan Luck\\Documents\\UCSD 18-19\\COGS18>python generate_test_files.py\n",
    "\n",
    "C:\\Users\\Jonathan Luck\\Documents\\UCSD 18-19\\COGS18>python main.py\n",
    "(E)ncrypt and archive or (D)ecrypt and unarchive: E\n",
    "Please provide a directory to archive. Note that all files in that directory will be archived, but not subdirectories. Directory: test_files\n",
    "Password:\n",
    "Output archive filename: stuff.out\n",
    "Read: test_file_0.bin  Size: 1027695\n",
    "Read: test_file_1.bin  Size: 2841794\n",
    "Read: test_file_2.bin  Size: 8151545\n",
    "Read: test_file_3.bin  Size: 4743531\n",
    "Read: test_file_4.bin  Size: 7506462\n",
    "Read: test_file_5.bin  Size: 8323615\n",
    "Read: test_file_6.bin  Size: 6587728\n",
    "Read: test_file_7.bin  Size: 7683724\n",
    "Read: test_file_8.bin  Size: 1740810\n",
    "Read: test_file_9.bin  Size: 2869312\n",
    "Files read. Compressing now... Please be patient\n",
    "Successfully created stuff.out\n",
    "\n",
    "C:\\Users\\Jonathan Luck\\Documents\\UCSD 18-19\\COGS18>python main.py\n",
    "(E)ncrypt and archive or (D)ecrypt and unarchive: D\n",
    "Archive filename: stuff.out\n",
    "Password:\n",
    "test_file_0.bin: 1027695 bytes\n",
    "test_file_1.bin: 2841794 bytes\n",
    "test_file_2.bin: 8151545 bytes\n",
    "test_file_3.bin: 4743531 bytes\n",
    "test_file_4.bin: 7506462 bytes\n",
    "test_file_5.bin: 8323615 bytes\n",
    "test_file_6.bin: 6587728 bytes\n",
    "test_file_7.bin: 7683724 bytes\n",
    "test_file_8.bin: 1740810 bytes\n",
    "test_file_9.bin: 2869312 bytes\n",
    "Which file would you like to extract? Press ctrl+c to exit. File: test_file_5.bin\n",
    "What directory would you like to extract test_file_5.bin to?('.' for current dir): .\n",
    "Successfully extracted test_file_5.bin\n",
    "Which file would you like to extract? Press ctrl+c to exit. File:\n",
    "C:\\Users\\Jonathan Luck\\Documents\\UCSD 18-19\\COGS18>\n",
    "```\n",
    "\n",
    "Output file structure:\n",
    "```\n",
    "-- HEADER. Header integrity protected via the AEAD --\n",
    "4 byte magic header\n",
    "16 byte scrypt salt\n",
    "64 byte password hash-scrypt\n",
    "16 byte pbkdf2 salt/AES nonce\n",
    "-- file list and file data encrypted using AES EAX mode --\n",
    "4 bye unsigned LE-encoded length of file name list + 6\n",
    "2 byte unsigned LE-encoded number of files\n",
    "list of file names:\n",
    "2 byte file name length\n",
    "4 byte unsigned file length\n",
    "variable filename\n",
    "-- files --\n",
    "list of files:\n",
    "compressed file\n",
    "-- end of files, remaining data unencrypted --\n",
    "16 byte AEAD tag over the whole file (protects header integrity)\n",
    "```"
   ]
  },
  {
   "cell_type": "code",
   "execution_count": null,
   "metadata": {},
   "outputs": [],
   "source": []
  }
 ],
 "metadata": {
  "kernelspec": {
   "display_name": "Python 3",
   "language": "python",
   "name": "python3"
  },
  "language_info": {
   "codemirror_mode": {
    "name": "ipython",
    "version": 3
   },
   "file_extension": ".py",
   "mimetype": "text/x-python",
   "name": "python",
   "nbconvert_exporter": "python",
   "pygments_lexer": "ipython3",
   "version": "3.6.7"
  }
 },
 "nbformat": 4,
 "nbformat_minor": 2
}
